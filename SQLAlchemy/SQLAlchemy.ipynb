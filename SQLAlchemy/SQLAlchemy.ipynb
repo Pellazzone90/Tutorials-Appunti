{
 "cells": [
  {
   "cell_type": "code",
   "execution_count": 3,
   "id": "9d105c53",
   "metadata": {},
   "outputs": [],
   "source": [
    "import pandas as pd\n",
    "import sqlalchemy as sal"
   ]
  },
  {
   "cell_type": "code",
   "execution_count": 4,
   "id": "2dde9726",
   "metadata": {},
   "outputs": [
    {
     "data": {
      "text/plain": [
       "'1.4.39'"
      ]
     },
     "execution_count": 4,
     "metadata": {},
     "output_type": "execute_result"
    }
   ],
   "source": [
    "sal.__version__"
   ]
  },
  {
   "cell_type": "markdown",
   "id": "1968430f",
   "metadata": {},
   "source": [
    "SQLAlchelmy è una libreria di Python per interagire con database relazionali (SQL, MySQL, PostgreSQL etc) tramite la componente Object Relational Mapper. L'ORM permette di mappare classi Python e oggetti Python in tabelle relazionali ed entità all'interno di un DB.\n",
    "Qual è il vantaggio nell'utilizzare un ORM? \\\n",
    " 1. Utilizzare un ORM ci permette di essere svincolati dal dialetto specifico del DB una volta stabilita la specifica connessione.\n",
    " 2. l'esecuzione di query sulle tabelle o le operazioni sul DB è indipendente dal dialetto specifico del DB,\n",
    " 3. Un ORM è molto pratico in fase di creazione perchè possiamo generare tabelle e definirne i metadati mappandoli come classi python.\n"
   ]
  },
  {
   "cell_type": "markdown",
   "id": "8f718fce",
   "metadata": {},
   "source": [
    "Svolgeremo l'esempio in cui vogliamo creare un DB locale definendone struttura e tabelle, inserendone i dati ed eseguendo query su di essi:"
   ]
  },
  {
   "cell_type": "markdown",
   "id": "e5dd0d69",
   "metadata": {},
   "source": [
    "Per indirizzarci al DB dobbiamo inizializzare un oggetto della classe *engine*. \\\n",
    "Attraverso l'engine possiamo settare i parametri (credenziali utente, dialetto, indirizzo etc) che definiscono la connessione verso il DB tramite la *connection string* \\\n",
    "documentazione: https://docs.sqlalchemy.org/en/20/core/engines.html \\\n",
    "Se il DB non esiste verrà automaticamente creato. Nel nostro esempio creiamo un semplice DB sqlite:"
   ]
  },
  {
   "cell_type": "code",
   "execution_count": 3,
   "id": "52b87ad3",
   "metadata": {},
   "outputs": [],
   "source": [
    "from sqlalchemy import create_engine"
   ]
  },
  {
   "cell_type": "code",
   "execution_count": 4,
   "id": "222c5b3c",
   "metadata": {},
   "outputs": [],
   "source": [
    "engine = create_engine('sqlite:///miodb.sqlite', echo=True) "
   ]
  },
  {
   "cell_type": "markdown",
   "id": "c14a238d",
   "metadata": {},
   "source": [
    "\n",
    "La prima cosa da fare è costruire il DB Schema o in termin di sqlAlchemy, costruire una classe che definisce le tabelle del DB, o per meglio dire mappare la tabella ad una classe descrivendone i vari attributi.\n",
    "\n",
    "Per mappare una tabella in SQLAlchemy bisogna innanzitutto definire la classe *Base* dalla quale ereditare gli attributi che permetteno la creazione della tabella.\n",
    "[https://docs.sqlalchemy.org/en/13/orm/extensions/declarative/basic_use.html]"
   ]
  },
  {
   "cell_type": "code",
   "execution_count": 5,
   "id": "ab9721c0",
   "metadata": {},
   "outputs": [],
   "source": [
    "#from sqlalchemy.orm import declarative_base #oppure\n",
    "from sqlalchemy.ext.declarative import declarative_base"
   ]
  },
  {
   "cell_type": "code",
   "execution_count": 6,
   "id": "586b4779",
   "metadata": {},
   "outputs": [],
   "source": [
    "Base = declarative_base()"
   ]
  },
  {
   "cell_type": "markdown",
   "id": "053f16de",
   "metadata": {},
   "source": [
    "Chiamando declarative_base() otteniamo una nuova classe base da cui erediteranno le classi-tabelle che definiamo.\n",
    "Quando una classe-tabella viene definita saranno automaticmaente generati una Table ed un mapper(), strumenti essenziali per l'effettiva costruzione."
   ]
  },
  {
   "cell_type": "markdown",
   "id": "a1f0834e",
   "metadata": {},
   "source": [
    "Per mappare una tabella dobbiamo importare da SQLAlchemy le classi che ci permettono di definire i tipi di dati contenuti all'interno della tabella. \\\n",
    "Innanzitutto bisogna importare la classe Column che ci permette di definire le colonne che andiamo a creare nella tabella e a seguire i loro datatype:"
   ]
  },
  {
   "cell_type": "code",
   "execution_count": 7,
   "id": "828fd3ef",
   "metadata": {},
   "outputs": [],
   "source": [
    "from sqlalchemy import Column, String, DateTime, Integer, CHAR, ForeignKey\n",
    "from datetime import datetime"
   ]
  },
  {
   "cell_type": "code",
   "execution_count": 2,
   "id": "32c374f3",
   "metadata": {},
   "outputs": [
    {
     "ename": "NameError",
     "evalue": "name 'Base' is not defined",
     "output_type": "error",
     "traceback": [
      "\u001b[0;31m---------------------------------------------------------------------------\u001b[0m",
      "\u001b[0;31mNameError\u001b[0m                                 Traceback (most recent call last)",
      "Cell \u001b[0;32mIn [2], line 1\u001b[0m\n\u001b[0;32m----> 1\u001b[0m \u001b[38;5;28;01mclass\u001b[39;00m \u001b[38;5;21;01mPokemon\u001b[39;00m(\u001b[43mBase\u001b[49m): \u001b[38;5;66;03m#eredita dalla classe Base\u001b[39;00m\n\u001b[1;32m      2\u001b[0m     __tablename__ \u001b[38;5;241m=\u001b[39m \u001b[38;5;124m\"\u001b[39m\u001b[38;5;124mpokemon\u001b[39m\u001b[38;5;124m\"\u001b[39m \u001b[38;5;66;03m#definiamo il nome tabella con il dundermethod specifico\u001b[39;00m\n\u001b[1;32m      4\u001b[0m     __table_args__ \u001b[38;5;241m=\u001b[39m {\u001b[38;5;124m'\u001b[39m\u001b[38;5;124mextend_existing\u001b[39m\u001b[38;5;124m'\u001b[39m: \u001b[38;5;28;01mTrue\u001b[39;00m} \n",
      "\u001b[0;31mNameError\u001b[0m: name 'Base' is not defined"
     ]
    }
   ],
   "source": [
    "class Pokemon(Base): #eredita dalla classe Base\n",
    "    __tablename__ = \"pokemon\" #definiamo il nome tabella con il dundermethod specifico\n",
    "    \n",
    "    #__table_args__ = {'extend_existing': True} \n",
    "    id_pkm = Column(\n",
    "        Integer(), \n",
    "        primary_key=True #permette di assegnare la caratteristica di primary-key\n",
    "    )\n",
    "    nome = Column(\n",
    "        String(25), #possiamo chiamare la classe del datatype per assegnare il valore massimo dell'attributo\n",
    "        nullable=False)#fa sì che l'attributo non possa essere nullo\n",
    "    \n",
    "    tipo = Column(\n",
    "        String(25), #possiamo chiamare la classe del datatype per assegnare il valore massimo dell'attributo\n",
    "        nullable=False) #fa sì che l'attributo non possa essere nullo\n",
    "    \n",
    "    generazione = Column(\n",
    "        Integer, \n",
    "        nullable=False)\n",
    "    \n",
    "    data_creazione = Column(\n",
    "        DateTime(),\n",
    "        default=datetime.utcnow) #valore di default da assegnare in fase di creazione dell'attributo\n",
    "    \n",
    "    def __init__(self, id_pkm, nome, tipo, generazione):\n",
    "        self.id = id_pkm\n",
    "        self.nome = nome\n",
    "        self.tipo = tipo\n",
    "        self.generazione = generazione\n",
    "        #self.data = data\n",
    "        \n",
    "    \n",
    "    def __repr__(self): #definiamo come vogliamo rappresentare l'oggetto della classe quando viene visualizzato\n",
    "        return f\"({self.id}) {self.nome}, {self.tipo}, {self.generazione})\"\n",
    "    "
   ]
  },
  {
   "cell_type": "code",
   "execution_count": 9,
   "id": "aa5f52da",
   "metadata": {},
   "outputs": [],
   "source": [
    "class Debolezze(Base):\n",
    "    __tablename__ = \"debolezze\"\n",
    "    \n",
    "    d_id = Column(\"d_id\", Integer, primary_key=True)\n",
    "    tipo = Column(\"tipo\", String, ForeignKey(\"pokemon.tipo\"))\n",
    "    debolezza = Column(\"debolezza\", String)\n",
    "                  \n",
    "    def __init__(self, d_id, tipo, debolezza):\n",
    "        self.id = d_id\n",
    "        self.tipo = tipo\n",
    "        self.debolezza = debolezza\n",
    "    \n",
    "    def __rpr__(self):\n",
    "        return f\"({self.id}, il tipo {self.tipo} è debole al tipo {self.debolezza})\""
   ]
  },
  {
   "cell_type": "code",
   "execution_count": 10,
   "id": "62b3c4d9",
   "metadata": {},
   "outputs": [
    {
     "data": {
      "text/plain": [
       "Table('pokemon', MetaData(), Column('id_pkm', Integer(), table=<pokemon>, primary_key=True, nullable=False), Column('nome', String(length=25), table=<pokemon>, nullable=False), Column('tipo', String(length=25), table=<pokemon>, nullable=False), Column('generazione', Integer(), table=<pokemon>, nullable=False), Column('data_creazione', DateTime(), table=<pokemon>, default=ColumnDefault(<function datetime.utcnow at 0x7f99b192a7a0>)), schema=None)"
      ]
     },
     "execution_count": 10,
     "metadata": {},
     "output_type": "execute_result"
    }
   ],
   "source": [
    "#Mostriamo i metadati della nostra tabella:\n",
    "Pokemon.__table__"
   ]
  },
  {
   "cell_type": "code",
   "execution_count": 11,
   "id": "b8a58bcd",
   "metadata": {},
   "outputs": [
    {
     "data": {
      "text/plain": [
       "Table('debolezze', MetaData(), Column('d_id', Integer(), table=<debolezze>, primary_key=True, nullable=False), Column('tipo', String(), ForeignKey('pokemon.tipo'), table=<debolezze>), Column('debolezza', String(), table=<debolezze>), schema=None)"
      ]
     },
     "execution_count": 11,
     "metadata": {},
     "output_type": "execute_result"
    }
   ],
   "source": [
    "Debolezze.__table__"
   ]
  },
  {
   "cell_type": "code",
   "execution_count": 12,
   "id": "8d894234",
   "metadata": {},
   "outputs": [
    {
     "name": "stdout",
     "output_type": "stream",
     "text": [
      "2022-11-24 17:15:38,202 INFO sqlalchemy.engine.Engine BEGIN (implicit)\n",
      "2022-11-24 17:15:38,203 INFO sqlalchemy.engine.Engine PRAGMA main.table_info(\"pokemon\")\n",
      "2022-11-24 17:15:38,203 INFO sqlalchemy.engine.Engine [raw sql] ()\n",
      "2022-11-24 17:15:38,204 INFO sqlalchemy.engine.Engine PRAGMA temp.table_info(\"pokemon\")\n",
      "2022-11-24 17:15:38,204 INFO sqlalchemy.engine.Engine [raw sql] ()\n",
      "2022-11-24 17:15:38,205 INFO sqlalchemy.engine.Engine PRAGMA main.table_info(\"debolezze\")\n",
      "2022-11-24 17:15:38,205 INFO sqlalchemy.engine.Engine [raw sql] ()\n",
      "2022-11-24 17:15:38,205 INFO sqlalchemy.engine.Engine PRAGMA temp.table_info(\"debolezze\")\n",
      "2022-11-24 17:15:38,206 INFO sqlalchemy.engine.Engine [raw sql] ()\n",
      "2022-11-24 17:15:38,206 INFO sqlalchemy.engine.Engine \n",
      "CREATE TABLE pokemon (\n",
      "\tid_pkm INTEGER NOT NULL, \n",
      "\tnome VARCHAR(25) NOT NULL, \n",
      "\ttipo VARCHAR(25) NOT NULL, \n",
      "\tgenerazione INTEGER NOT NULL, \n",
      "\tdata_creazione DATETIME, \n",
      "\tPRIMARY KEY (id_pkm)\n",
      ")\n",
      "\n",
      "\n",
      "2022-11-24 17:15:38,207 INFO sqlalchemy.engine.Engine [no key 0.00025s] ()\n",
      "2022-11-24 17:15:38,222 INFO sqlalchemy.engine.Engine \n",
      "CREATE TABLE debolezze (\n",
      "\td_id INTEGER NOT NULL, \n",
      "\ttipo VARCHAR, \n",
      "\tdebolezza VARCHAR, \n",
      "\tPRIMARY KEY (d_id), \n",
      "\tFOREIGN KEY(tipo) REFERENCES pokemon (tipo)\n",
      ")\n",
      "\n",
      "\n",
      "2022-11-24 17:15:38,222 INFO sqlalchemy.engine.Engine [no key 0.00050s] ()\n",
      "2022-11-24 17:15:38,226 INFO sqlalchemy.engine.Engine COMMIT\n"
     ]
    }
   ],
   "source": [
    "Base.metadata.create_all(bind=engine)"
   ]
  },
  {
   "cell_type": "markdown",
   "id": "e94fc539",
   "metadata": {},
   "source": [
    "Come possiamo verificare dall'output generato trmaite il parametro \"echo=True\" la tabella Utenti è stata creata all'interno del database."
   ]
  },
  {
   "cell_type": "markdown",
   "id": "8d989920",
   "metadata": {},
   "source": [
    "Inseriamo dati all'interno della tabella: \\\n",
    "Per interagire con le tablele del DB dobbiamo avviare una sesssione.\n",
    "La sessione stabilisce le relazione e la comunicazione con il DB e rappresenta una staging area per tutti gli oggetti ORM da mappare, i dati magari da inserire o le query da eseguire.\n",
    "Proprio come con GIT, le informazioni inserite nella connessione devono essere \"committate\".\n"
   ]
  },
  {
   "cell_type": "code",
   "execution_count": 13,
   "id": "755b2422",
   "metadata": {},
   "outputs": [],
   "source": [
    "from sqlalchemy.orm import sessionmaker"
   ]
  },
  {
   "cell_type": "code",
   "execution_count": 14,
   "id": "9f696e08",
   "metadata": {},
   "outputs": [],
   "source": [
    "Session = sessionmaker(bind=engine) #Bisogna collegare la sessione allo specifico DB e quindi alla specifica connesione ergo all'engine\n",
    "session = Session()"
   ]
  },
  {
   "cell_type": "code",
   "execution_count": 15,
   "id": "86babee3",
   "metadata": {},
   "outputs": [],
   "source": [
    "pkm_1 = Pokemon(1, \"Bulbasaur\", \"Erba\", 1)"
   ]
  },
  {
   "cell_type": "code",
   "execution_count": 16,
   "id": "6a453f3a",
   "metadata": {},
   "outputs": [],
   "source": [
    "pkm_2 = Pokemon(2, \"Charmender\", \"Fuoco\", 1)"
   ]
  },
  {
   "cell_type": "code",
   "execution_count": 17,
   "id": "dd13b7d9",
   "metadata": {},
   "outputs": [],
   "source": [
    "pkm_3 = Pokemon(3, \"Squirtle\", \"Acqua\", 1)"
   ]
  },
  {
   "cell_type": "code",
   "execution_count": 18,
   "id": "8dd4494b",
   "metadata": {},
   "outputs": [],
   "source": [
    "session.add_all([pkm_1, pkm_2, pkm_3])"
   ]
  },
  {
   "cell_type": "code",
   "execution_count": 19,
   "id": "3eca11e4",
   "metadata": {},
   "outputs": [
    {
     "name": "stdout",
     "output_type": "stream",
     "text": [
      "2022-11-24 17:15:43,492 INFO sqlalchemy.engine.Engine BEGIN (implicit)\n",
      "2022-11-24 17:15:43,495 INFO sqlalchemy.engine.Engine INSERT INTO pokemon (nome, tipo, generazione, data_creazione) VALUES (?, ?, ?, ?)\n",
      "2022-11-24 17:15:43,496 INFO sqlalchemy.engine.Engine [generated in 0.00061s] ('Bulbasaur', 'Erba', 1, '2022-11-24 16:15:43.495831')\n",
      "2022-11-24 17:15:43,497 INFO sqlalchemy.engine.Engine INSERT INTO pokemon (nome, tipo, generazione, data_creazione) VALUES (?, ?, ?, ?)\n",
      "2022-11-24 17:15:43,498 INFO sqlalchemy.engine.Engine [cached since 0.002376s ago] ('Charmender', 'Fuoco', 1, '2022-11-24 16:15:43.497788')\n",
      "2022-11-24 17:15:43,498 INFO sqlalchemy.engine.Engine INSERT INTO pokemon (nome, tipo, generazione, data_creazione) VALUES (?, ?, ?, ?)\n",
      "2022-11-24 17:15:43,499 INFO sqlalchemy.engine.Engine [cached since 0.003411s ago] ('Squirtle', 'Acqua', 1, '2022-11-24 16:15:43.498819')\n",
      "2022-11-24 17:15:43,499 INFO sqlalchemy.engine.Engine COMMIT\n"
     ]
    }
   ],
   "source": [
    "session.commit()"
   ]
  },
  {
   "cell_type": "code",
   "execution_count": 23,
   "id": "f4ae883b",
   "metadata": {},
   "outputs": [
    {
     "name": "stdout",
     "output_type": "stream",
     "text": [
      "2022-11-24 17:16:37,284 INFO sqlalchemy.engine.Engine BEGIN (implicit)\n",
      "2022-11-24 17:16:37,287 INFO sqlalchemy.engine.Engine SELECT pokemon.id_pkm AS pokemon_id_pkm, pokemon.nome AS pokemon_nome, pokemon.tipo AS pokemon_tipo, pokemon.generazione AS pokemon_generazione, pokemon.data_creazione AS pokemon_data_creazione \n",
      "FROM pokemon \n",
      "WHERE pokemon.id_pkm = ?\n",
      "2022-11-24 17:16:37,287 INFO sqlalchemy.engine.Engine [generated in 0.00049s] (1,)\n"
     ]
    }
   ],
   "source": [
    "deb_1 = Debolezze(1, pkm_1.tipo, \"Fuoco\")"
   ]
  },
  {
   "cell_type": "code",
   "execution_count": 24,
   "id": "166d8ec0",
   "metadata": {},
   "outputs": [
    {
     "name": "stdout",
     "output_type": "stream",
     "text": [
      "2022-11-24 17:16:38,015 INFO sqlalchemy.engine.Engine SELECT pokemon.id_pkm AS pokemon_id_pkm, pokemon.nome AS pokemon_nome, pokemon.tipo AS pokemon_tipo, pokemon.generazione AS pokemon_generazione, pokemon.data_creazione AS pokemon_data_creazione \n",
      "FROM pokemon \n",
      "WHERE pokemon.id_pkm = ?\n",
      "2022-11-24 17:16:38,016 INFO sqlalchemy.engine.Engine [cached since 0.7298s ago] (2,)\n"
     ]
    }
   ],
   "source": [
    "deb_2 = Debolezze(2, pkm_2.tipo, \"Acqua\")"
   ]
  },
  {
   "cell_type": "code",
   "execution_count": 25,
   "id": "10b29a4b",
   "metadata": {},
   "outputs": [
    {
     "name": "stdout",
     "output_type": "stream",
     "text": [
      "2022-11-24 17:16:38,662 INFO sqlalchemy.engine.Engine SELECT pokemon.id_pkm AS pokemon_id_pkm, pokemon.nome AS pokemon_nome, pokemon.tipo AS pokemon_tipo, pokemon.generazione AS pokemon_generazione, pokemon.data_creazione AS pokemon_data_creazione \n",
      "FROM pokemon \n",
      "WHERE pokemon.id_pkm = ?\n",
      "2022-11-24 17:16:38,662 INFO sqlalchemy.engine.Engine [cached since 1.376s ago] (3,)\n"
     ]
    }
   ],
   "source": [
    "deb_3 = Debolezze(3, pkm_3.tipo, \"Erba\")"
   ]
  },
  {
   "cell_type": "code",
   "execution_count": 26,
   "id": "659b53e6",
   "metadata": {},
   "outputs": [],
   "source": [
    "session.add_all([deb_1, deb_2, deb_3])"
   ]
  },
  {
   "cell_type": "code",
   "execution_count": 27,
   "id": "dd2c236a",
   "metadata": {},
   "outputs": [
    {
     "name": "stdout",
     "output_type": "stream",
     "text": [
      "2022-11-24 17:16:41,597 INFO sqlalchemy.engine.Engine INSERT INTO debolezze (tipo, debolezza) VALUES (?, ?)\n",
      "2022-11-24 17:16:41,598 INFO sqlalchemy.engine.Engine [generated in 0.00081s] ('Erba', 'Fuoco')\n",
      "2022-11-24 17:16:41,599 INFO sqlalchemy.engine.Engine INSERT INTO debolezze (tipo, debolezza) VALUES (?, ?)\n",
      "2022-11-24 17:16:41,599 INFO sqlalchemy.engine.Engine [cached since 0.002038s ago] ('Fuoco', 'Acqua')\n",
      "2022-11-24 17:16:41,600 INFO sqlalchemy.engine.Engine INSERT INTO debolezze (tipo, debolezza) VALUES (?, ?)\n",
      "2022-11-24 17:16:41,600 INFO sqlalchemy.engine.Engine [cached since 0.002903s ago] ('Acqua', 'Erba')\n",
      "2022-11-24 17:16:41,601 INFO sqlalchemy.engine.Engine COMMIT\n"
     ]
    }
   ],
   "source": [
    "session.commit()"
   ]
  },
  {
   "cell_type": "markdown",
   "id": "f07803a4",
   "metadata": {},
   "source": [
    "## Interrogare il DB:\n",
    "Per interrogare il DB possiamo usare i comandi di SQLAlchemy indipendti dal dialetto:\n",
    "sqlAlchemy.query()\n",
    "oppure definire una query ed eseguirla con session.execut(qury)"
   ]
  },
  {
   "cell_type": "markdown",
   "id": "900319b5",
   "metadata": {},
   "source": [
    "### SELECT  *\n",
    "COME OTTENERE TUTTI I DATI DI UNA TABELLA:"
   ]
  },
  {
   "cell_type": "code",
   "execution_count": 28,
   "id": "c424c7fb",
   "metadata": {},
   "outputs": [],
   "source": [
    "all_pokemon = session.query(Pokemon)"
   ]
  },
  {
   "cell_type": "code",
   "execution_count": 29,
   "id": "29228094",
   "metadata": {},
   "outputs": [
    {
     "name": "stdout",
     "output_type": "stream",
     "text": [
      "2022-11-24 17:16:44,032 INFO sqlalchemy.engine.Engine BEGIN (implicit)\n",
      "2022-11-24 17:16:44,033 INFO sqlalchemy.engine.Engine SELECT pokemon.id_pkm AS pokemon_id_pkm, pokemon.nome AS pokemon_nome, pokemon.tipo AS pokemon_tipo, pokemon.generazione AS pokemon_generazione, pokemon.data_creazione AS pokemon_data_creazione \n",
      "FROM pokemon\n",
      "2022-11-24 17:16:44,033 INFO sqlalchemy.engine.Engine [generated in 0.00046s] ()\n",
      "(1) Bulbasaur, Erba, 1)\n",
      "\n",
      "(2) Charmender, Fuoco, 1)\n",
      "\n",
      "(3) Squirtle, Acqua, 1)\n",
      "\n"
     ]
    }
   ],
   "source": [
    "for pokemon in all_pokemon:\n",
    "    print(pokemon)\n",
    "    print()"
   ]
  },
  {
   "cell_type": "markdown",
   "id": "10031677",
   "metadata": {},
   "source": [
    "Equilvalentemente si può interrogare il DB con una struttura che rispecchia il linguaggio SQL: \\\n",
    "NB: usiamo il context manager *with()*"
   ]
  },
  {
   "cell_type": "code",
   "execution_count": 30,
   "id": "f2b57f05",
   "metadata": {},
   "outputs": [],
   "source": [
    "query = sal.select([Pokemon])"
   ]
  },
  {
   "cell_type": "code",
   "execution_count": 31,
   "id": "7e754f53",
   "metadata": {},
   "outputs": [
    {
     "name": "stdout",
     "output_type": "stream",
     "text": [
      "2022-11-24 17:16:47,630 INFO sqlalchemy.engine.Engine SELECT pokemon.id_pkm, pokemon.nome, pokemon.tipo, pokemon.generazione, pokemon.data_creazione \n",
      "FROM pokemon\n",
      "2022-11-24 17:16:47,631 INFO sqlalchemy.engine.Engine [generated in 0.00100s] ()\n"
     ]
    }
   ],
   "source": [
    "with engine.connect() as conn:\n",
    "    r = conn.execute(query).fetchall()"
   ]
  },
  {
   "cell_type": "code",
   "execution_count": 32,
   "id": "8b27f992",
   "metadata": {},
   "outputs": [
    {
     "name": "stdout",
     "output_type": "stream",
     "text": [
      "(1, 'Bulbasaur', 'Erba', 1, datetime.datetime(2022, 11, 24, 16, 15, 43, 495831))\n",
      "(2, 'Charmender', 'Fuoco', 1, datetime.datetime(2022, 11, 24, 16, 15, 43, 497788))\n",
      "(3, 'Squirtle', 'Acqua', 1, datetime.datetime(2022, 11, 24, 16, 15, 43, 498819))\n"
     ]
    }
   ],
   "source": [
    "for result in list(r):\n",
    "    print(result)"
   ]
  },
  {
   "cell_type": "markdown",
   "id": "0382c49d",
   "metadata": {},
   "source": [
    "### ORDER BY:"
   ]
  },
  {
   "cell_type": "code",
   "execution_count": 33,
   "id": "991a0e56",
   "metadata": {},
   "outputs": [],
   "source": [
    "ordered_pokemon = session.query(Pokemon).order_by(Pokemon.nome)"
   ]
  },
  {
   "cell_type": "code",
   "execution_count": 34,
   "id": "91e1d870",
   "metadata": {},
   "outputs": [
    {
     "name": "stdout",
     "output_type": "stream",
     "text": [
      "2022-11-24 17:16:50,658 INFO sqlalchemy.engine.Engine SELECT pokemon.id_pkm AS pokemon_id_pkm, pokemon.nome AS pokemon_nome, pokemon.tipo AS pokemon_tipo, pokemon.generazione AS pokemon_generazione, pokemon.data_creazione AS pokemon_data_creazione \n",
      "FROM pokemon ORDER BY pokemon.nome\n",
      "2022-11-24 17:16:50,659 INFO sqlalchemy.engine.Engine [generated in 0.00167s] ()\n",
      "Bulbasaur\n",
      "Charmender\n",
      "Squirtle\n"
     ]
    }
   ],
   "source": [
    "for pokemon in ordered_pokemon:\n",
    "    print(pokemon.nome)"
   ]
  },
  {
   "cell_type": "markdown",
   "id": "90db36a0",
   "metadata": {},
   "source": [
    "EQUIVALENTE SQL :\n",
    "```SQL\n",
    "SELECT nome \n",
    "FROM pokemon\n",
    "ORDER BY nome DESC,\n",
    "```"
   ]
  },
  {
   "cell_type": "code",
   "execution_count": 35,
   "id": "966c043a",
   "metadata": {},
   "outputs": [
    {
     "name": "stdout",
     "output_type": "stream",
     "text": [
      "2022-11-24 17:16:52,457 INFO sqlalchemy.engine.Engine SELECT pokemon.id_pkm, pokemon.nome, pokemon.tipo, pokemon.generazione, pokemon.data_creazione \n",
      "FROM pokemon ORDER BY pokemon.nome DESC\n",
      "2022-11-24 17:16:52,458 INFO sqlalchemy.engine.Engine [generated in 0.00094s] ()\n",
      "((3) Squirtle, Acqua, 1),)\n",
      "((2) Charmender, Fuoco, 1),)\n",
      "((1) Bulbasaur, Erba, 1),)\n"
     ]
    }
   ],
   "source": [
    "query = sal.select([Pokemon]).order_by(sal.desc(Pokemon.nome))\n",
    "\n",
    "ordered_pokemon = session.execute(query)\n",
    "for pokemon in ordered_pokemon:\n",
    "    print(pokemon)"
   ]
  },
  {
   "cell_type": "markdown",
   "id": "cde8197e",
   "metadata": {},
   "source": [
    "### WHERE:\n",
    "EQUIVALENTE SQL :\n",
    "```SQL\n",
    "SELECT * \n",
    "FROM pokemon\n",
    "WHERE generazione = 1,\n",
    "```"
   ]
  },
  {
   "cell_type": "code",
   "execution_count": 36,
   "id": "408826bc",
   "metadata": {},
   "outputs": [
    {
     "name": "stdout",
     "output_type": "stream",
     "text": [
      "2022-11-24 17:16:54,236 INFO sqlalchemy.engine.Engine SELECT pokemon.id_pkm, pokemon.nome, pokemon.tipo, pokemon.generazione, pokemon.data_creazione \n",
      "FROM pokemon \n",
      "WHERE pokemon.generazione = ?\n",
      "2022-11-24 17:16:54,237 INFO sqlalchemy.engine.Engine [generated in 0.00114s] (1,)\n"
     ]
    }
   ],
   "source": [
    "query = sal.select([Pokemon]).where(Pokemon.generazione == 1)\n",
    "result = session.execute(query)"
   ]
  },
  {
   "cell_type": "code",
   "execution_count": 37,
   "id": "edbb412d",
   "metadata": {},
   "outputs": [
    {
     "name": "stdout",
     "output_type": "stream",
     "text": [
      "((1) Bulbasaur, Erba, 1),)\n",
      "((2) Charmender, Fuoco, 1),)\n",
      "((3) Squirtle, Acqua, 1),)\n"
     ]
    }
   ],
   "source": [
    "for r in result:\n",
    "    print(r)"
   ]
  },
  {
   "cell_type": "markdown",
   "id": "865fdd8a",
   "metadata": {},
   "source": [
    "### IN:\n",
    "EQUIVALENTE SQL :\n",
    "```SQL\n",
    "SELECT nome, tipo\n",
    "FROM pokemon\n",
    "WHERE generazione IN (1, 2),\n",
    "```"
   ]
  },
  {
   "cell_type": "code",
   "execution_count": 38,
   "id": "502e48f5",
   "metadata": {},
   "outputs": [],
   "source": [
    "query = sal.select([Pokemon.nome, Pokemon.tipo]).where(Pokemon.generazione.in_([1, 2]))"
   ]
  },
  {
   "cell_type": "code",
   "execution_count": 39,
   "id": "d4284951",
   "metadata": {},
   "outputs": [
    {
     "name": "stdout",
     "output_type": "stream",
     "text": [
      "2022-11-24 17:16:57,501 INFO sqlalchemy.engine.Engine SELECT pokemon.nome, pokemon.tipo \n",
      "FROM pokemon \n",
      "WHERE pokemon.generazione IN (?, ?)\n",
      "2022-11-24 17:16:57,502 INFO sqlalchemy.engine.Engine [generated in 0.00103s] (1, 2)\n"
     ]
    }
   ],
   "source": [
    "result = session.execute(query)"
   ]
  },
  {
   "cell_type": "code",
   "execution_count": 40,
   "id": "2904ccae",
   "metadata": {},
   "outputs": [
    {
     "name": "stdout",
     "output_type": "stream",
     "text": [
      "('Bulbasaur', 'Erba')\n",
      "('Charmender', 'Fuoco')\n",
      "('Squirtle', 'Acqua')\n"
     ]
    }
   ],
   "source": [
    "for r in result:\n",
    "    print(r)"
   ]
  },
  {
   "cell_type": "markdown",
   "id": "7cbddfb9",
   "metadata": {},
   "source": [
    "### LIKE:\n",
    "EQUIVALENTE SQL :\n",
    "```SQL\n",
    "SELECT nome,\n",
    "FROM pokemon\n",
    "WHERE nome LIKE '%saur',\n",
    "```"
   ]
  },
  {
   "cell_type": "code",
   "execution_count": 43,
   "id": "ae62ed9d",
   "metadata": {},
   "outputs": [],
   "source": [
    "results = session.query(Pokemon).filter(Pokemon.nome.like(\"%saur\"))"
   ]
  },
  {
   "cell_type": "code",
   "execution_count": 46,
   "id": "5b2503fb",
   "metadata": {},
   "outputs": [
    {
     "name": "stdout",
     "output_type": "stream",
     "text": [
      "SELECT pokemon.id_pkm AS pokemon_id_pkm, pokemon.nome AS pokemon_nome, pokemon.tipo AS pokemon_tipo, pokemon.generazione AS pokemon_generazione, pokemon.data_creazione AS pokemon_data_creazione \n",
      "FROM pokemon \n",
      "WHERE pokemon.nome LIKE ?\n"
     ]
    }
   ],
   "source": [
    "print(results)"
   ]
  },
  {
   "cell_type": "code",
   "execution_count": 50,
   "id": "ce608113",
   "metadata": {},
   "outputs": [
    {
     "name": "stdout",
     "output_type": "stream",
     "text": [
      "2022-11-24 17:20:09,827 INFO sqlalchemy.engine.Engine SELECT pokemon.id_pkm AS pokemon_id_pkm, pokemon.nome AS pokemon_nome, pokemon.tipo AS pokemon_tipo, pokemon.generazione AS pokemon_generazione, pokemon.data_creazione AS pokemon_data_creazione \n",
      "FROM pokemon \n",
      "WHERE pokemon.nome LIKE ?\n",
      "2022-11-24 17:20:09,829 INFO sqlalchemy.engine.Engine [cached since 17.31s ago] ('%saur',)\n",
      "(1) Bulbasaur, Erba, 1)\n"
     ]
    }
   ],
   "source": [
    "for r in results:\n",
    "    print(r)"
   ]
  },
  {
   "cell_type": "markdown",
   "id": "40c35a5c",
   "metadata": {},
   "source": [
    "### Convertire query in DataFrame:"
   ]
  },
  {
   "cell_type": "code",
   "execution_count": 63,
   "id": "5553d291",
   "metadata": {},
   "outputs": [
    {
     "name": "stdout",
     "output_type": "stream",
     "text": [
      "2022-11-24 17:34:15,544 INFO sqlalchemy.engine.Engine SELECT pokemon.id_pkm, pokemon.nome, pokemon.tipo, pokemon.generazione, pokemon.data_creazione \n",
      "FROM pokemon\n",
      "2022-11-24 17:34:15,545 INFO sqlalchemy.engine.Engine [cached since 42.42s ago] ()\n"
     ]
    },
    {
     "data": {
      "text/html": [
       "<div>\n",
       "<style scoped>\n",
       "    .dataframe tbody tr th:only-of-type {\n",
       "        vertical-align: middle;\n",
       "    }\n",
       "\n",
       "    .dataframe tbody tr th {\n",
       "        vertical-align: top;\n",
       "    }\n",
       "\n",
       "    .dataframe thead th {\n",
       "        text-align: right;\n",
       "    }\n",
       "</style>\n",
       "<table border=\"1\" class=\"dataframe\">\n",
       "  <thead>\n",
       "    <tr style=\"text-align: right;\">\n",
       "      <th></th>\n",
       "      <th>id_pkm</th>\n",
       "      <th>nome</th>\n",
       "      <th>tipo</th>\n",
       "      <th>generazione</th>\n",
       "      <th>data_creazione</th>\n",
       "    </tr>\n",
       "  </thead>\n",
       "  <tbody>\n",
       "    <tr>\n",
       "      <th>0</th>\n",
       "      <td>1</td>\n",
       "      <td>Bulbasaur</td>\n",
       "      <td>Erba</td>\n",
       "      <td>1</td>\n",
       "      <td>2022-11-24 16:15:43.495831</td>\n",
       "    </tr>\n",
       "    <tr>\n",
       "      <th>1</th>\n",
       "      <td>2</td>\n",
       "      <td>Charmender</td>\n",
       "      <td>Fuoco</td>\n",
       "      <td>1</td>\n",
       "      <td>2022-11-24 16:15:43.497788</td>\n",
       "    </tr>\n",
       "    <tr>\n",
       "      <th>2</th>\n",
       "      <td>3</td>\n",
       "      <td>Squirtle</td>\n",
       "      <td>Acqua</td>\n",
       "      <td>1</td>\n",
       "      <td>2022-11-24 16:15:43.498819</td>\n",
       "    </tr>\n",
       "  </tbody>\n",
       "</table>\n",
       "</div>"
      ],
      "text/plain": [
       "   id_pkm        nome   tipo  generazione             data_creazione\n",
       "0       1   Bulbasaur   Erba            1 2022-11-24 16:15:43.495831\n",
       "1       2  Charmender  Fuoco            1 2022-11-24 16:15:43.497788\n",
       "2       3    Squirtle  Acqua            1 2022-11-24 16:15:43.498819"
      ]
     },
     "execution_count": 63,
     "metadata": {},
     "output_type": "execute_result"
    }
   ],
   "source": [
    "df = pd.read_sql(session.query(Pokemon).statement,session.bind) \n",
    "df"
   ]
  },
  {
   "cell_type": "markdown",
   "id": "f540a8b0",
   "metadata": {},
   "source": [
    "_______________________"
   ]
  }
 ],
 "metadata": {
  "kernelspec": {
   "display_name": "Python 3 (ipykernel)",
   "language": "python",
   "name": "python3"
  },
  "language_info": {
   "codemirror_mode": {
    "name": "ipython",
    "version": 3
   },
   "file_extension": ".py",
   "mimetype": "text/x-python",
   "name": "python",
   "nbconvert_exporter": "python",
   "pygments_lexer": "ipython3",
   "version": "3.10.8"
  }
 },
 "nbformat": 4,
 "nbformat_minor": 5
}
