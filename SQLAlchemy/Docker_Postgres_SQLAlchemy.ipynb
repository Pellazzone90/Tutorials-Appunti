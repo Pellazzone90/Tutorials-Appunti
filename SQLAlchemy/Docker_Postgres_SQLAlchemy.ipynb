{
 "cells": [
  {
   "cell_type": "code",
   "execution_count": null,
   "id": "b2177565",
   "metadata": {},
   "outputs": [],
   "source": [
    "import os\n",
    "\n",
    "import pandas as pd\n",
    "import sqlalchemy as sal"
   ]
  },
  {
   "cell_type": "markdown",
   "id": "87693f92",
   "metadata": {},
   "source": [
    "## Creazione de Postgre DB tramite Docker:\n",
    "Le frasi in grassetto si intendono stringhe di comando da eseguire nella CLI. \\\n",
    "1. Pulliamo da DockerHub un'immagine Postgres\n",
    "2. Runniamo il container\n",
    "**docker run --name DBtutorial -e POSTGRES_PASSWORD=xxxx -p 5432:5432 -d postgress**\n",
    "il comando *docker run* servirebbe per avviare un container su un'immagine già montata e presente nel filesystem ma dal momento che questa non è già presente in locale, eseguire comunque il comando *docker run*, con gli argomenti indicati, attiverà automaticamente la pull e la build dell'immagine con relativo avvio del container.\n",
    "\n",
    "Con il comando **docker ps** verifichiamo che il nostro container \"DBtutorial\" sia attivo \n",
    "\n",
    "A questo punto interagiamo con il container per creare il DB posgress all'interno di esso: \\\n",
    "\n",
    "**docker exec -it DBtutorial bash** per entrare nel container ed interagire tramite la shell bash\n",
    "\n",
    "**psql** per connettersi al server (ci risponderà con un errore di permessi \"failed: FATAL:  role \"root\" does not exist\" \\\n",
    "**psql -U postgres** Per ottenere i permessi root usando l'utente postreges \\\n",
    "\n",
    "**\\l** per visualizzare la lista dei DB già presenti \\\n",
    "\n",
    "Creiamo il nostro database \"pokemondb\":\\\n",
    "**CREATE DATABASE \"pokemondb\";** NB: il \";\" in chiusura del comando\n",
    "\n",
    "Proseguiamo con la creazione delle tabelle utilizzando il ORM di SQLAlchemy:"
   ]
  },
  {
   "cell_type": "code",
   "execution_count": null,
   "id": "58552457",
   "metadata": {},
   "outputs": [],
   "source": [
    "from sqlalchemy import create_engine\n",
    "\n",
    "username = os.getenv('DB_USER', '')\n",
    "password = os.getenv('DB_PASS', '')\n",
    "host = os.getenv('DB_HOST', '')\n",
    "port = os.getenv('DB_PORT', '')\n",
    "\n",
    "engine = create_engine(f\"postgresql+psycopg2://{username}:{password}@{host}:{port}/pokemondb\", echo=True)"
   ]
  },
  {
   "cell_type": "code",
   "execution_count": null,
   "id": "6e0f7ed2",
   "metadata": {},
   "outputs": [],
   "source": [
    "from sqlalchemy.ext.declarative import declarative_base"
   ]
  },
  {
   "cell_type": "code",
   "execution_count": null,
   "id": "280556f3",
   "metadata": {},
   "outputs": [],
   "source": [
    "Base = declarative_base()"
   ]
  },
  {
   "cell_type": "code",
   "execution_count": null,
   "id": "818730c7",
   "metadata": {},
   "outputs": [],
   "source": [
    "from sqlalchemy import Column, String, DateTime, Integer, CHAR, ForeignKey"
   ]
  },
  {
   "cell_type": "code",
   "execution_count": null,
   "id": "1716f4d3",
   "metadata": {},
   "outputs": [],
   "source": [
    "class Pokemon(Base): #eredita dalla classe Base\n",
    "    __tablename__ = \"Pokemon\" #definiamo il nome tabella con il dundermethod specifico\n",
    "    \n",
    "    __table_args__ = {'extend_existing': True}\n",
    "    \n",
    "    id_pkm = Column(\n",
    "        Integer(), \n",
    "        primary_key=True #permette di assegnare la caratteristica di primary-key\n",
    "    )\n",
    "    nome = Column(\n",
    "        String(25), #possiamo chiamare la classe del datatype per assegnare il valore massimo dell'attributo\n",
    "        nullable=False, #fa sì che l'attributo non possa essere nullo\n",
    "    ) #fa sì che l'attributo sia univoco\n",
    "    \n",
    "    tipo = Column(\n",
    "        String(25), #possiamo chiamare la classe del datatype per assegnare il valore massimo dell'attributo\n",
    "        nullable=False,\n",
    "        unique=True) #fa sì che l'attributo sia univoco\n",
    "    \n",
    "    generazione = Column(\n",
    "        Integer, \n",
    "        nullable=False)\n",
    "    \n",
    "    bst = Column(\n",
    "        Integer,\n",
    "        nullable=False)\n",
    "\n",
    "    \n",
    "    def __init__(self, id_pkm, nome, tipo, generazione, bst):\n",
    "        self.id = id_pkm\n",
    "        self.nome = nome\n",
    "        self.tipo = tipo\n",
    "        self.generazione = generazione\n",
    "        self.bst = bst\n",
    "        \n",
    "    \n",
    "    def __repr__(self): #definiamo come vogliamo rappresentare l'oggetto della classe quando viene visualizzato\n",
    "        return f\"({self.id}) {self.nome}, {self.tipo}, {self.generazione}, base_stats_total: {self.bst})\""
   ]
  },
  {
   "cell_type": "code",
   "execution_count": null,
   "id": "b079b4fa",
   "metadata": {},
   "outputs": [],
   "source": [
    "engine.dialect"
   ]
  },
  {
   "cell_type": "code",
   "execution_count": null,
   "id": "d60c4c0b",
   "metadata": {},
   "outputs": [],
   "source": [
    "Base.metadata.create_all(bind=engine)"
   ]
  },
  {
   "cell_type": "code",
   "execution_count": null,
   "id": "c4a595c9",
   "metadata": {},
   "outputs": [],
   "source": [
    "Pokemon.__table__"
   ]
  },
  {
   "cell_type": "code",
   "execution_count": null,
   "id": "c71de615",
   "metadata": {},
   "outputs": [],
   "source": [
    "class Debolezze(Base):\n",
    "    __tablename__ = \"Debolezze\"\n",
    "    \n",
    "    __table_args__ = {'extend_existing': True}\n",
    "    \n",
    "    d_id = Column(\"d_id\", Integer, primary_key=True)\n",
    "    tipo = Column(\"tipo\", String, ForeignKey(\"Pokemon.tipo\"), unique=True)\n",
    "    debolezza = Column(\"debolezza\", String)\n",
    "                  \n",
    "    def __init__(self, d_id, tipo, debolezza):\n",
    "        self.id = d_id\n",
    "        self.tipo = tipo\n",
    "        self.debolezza = debolezza\n",
    "    \n",
    "    def __rpr__(self):\n",
    "        return f\"({self.id}, il tipo {self.tipo} è debole al tipo {self.debolezza})\""
   ]
  },
  {
   "cell_type": "code",
   "execution_count": null,
   "id": "5e9cf47c",
   "metadata": {},
   "outputs": [],
   "source": [
    "Base.metadata.create_all(bind=engine)"
   ]
  },
  {
   "cell_type": "code",
   "execution_count": null,
   "id": "e52c0de0",
   "metadata": {},
   "outputs": [],
   "source": [
    "Debolezze.__table__"
   ]
  },
  {
   "cell_type": "code",
   "execution_count": null,
   "id": "d4613b7b",
   "metadata": {},
   "outputs": [],
   "source": [
    "from sqlalchemy.orm import sessionmaker"
   ]
  },
  {
   "cell_type": "code",
   "execution_count": null,
   "id": "ab772f5e",
   "metadata": {},
   "outputs": [],
   "source": [
    "Session = sessionmaker(bind=engine)\n",
    "session = Session()"
   ]
  },
  {
   "cell_type": "code",
   "execution_count": null,
   "id": "bcbfb6b9",
   "metadata": {},
   "outputs": [],
   "source": [
    "pkm_1 = Pokemon(1, \"Bulbasaur\", \"Erba\", 1, 318)"
   ]
  },
  {
   "cell_type": "code",
   "execution_count": null,
   "id": "b2625b5f",
   "metadata": {},
   "outputs": [],
   "source": [
    "pkm_2 = Pokemon(2, \"Charmander\", \"Fuoco\", 1, 309)"
   ]
  },
  {
   "cell_type": "code",
   "execution_count": null,
   "id": "4dafa1e2",
   "metadata": {},
   "outputs": [],
   "source": [
    "pkm_3 = Pokemon(3, \"Squirtle\", \"Acqua\", 1, 314)"
   ]
  },
  {
   "cell_type": "code",
   "execution_count": null,
   "id": "63e4061c",
   "metadata": {},
   "outputs": [],
   "source": [
    "with engine.connect() as con:\n",
    "    statement = text('INSERT INTO \"Pokemon\" (nome, tipo, generazione, bst) VALUES ({}, {}, 1, 421)'.format(\"'Gengar'\", \"'Spettro'\"))  \n",
    "    con.execute(statement)"
   ]
  },
  {
   "cell_type": "code",
   "execution_count": null,
   "id": "1b69cf92",
   "metadata": {},
   "outputs": [],
   "source": [
    "session.add_all([pkm_1, pkm_2, pkm_3])"
   ]
  },
  {
   "cell_type": "code",
   "execution_count": null,
   "id": "d70e5ad6",
   "metadata": {},
   "outputs": [],
   "source": [
    "session.commit()"
   ]
  },
  {
   "cell_type": "code",
   "execution_count": null,
   "id": "a6f78de4",
   "metadata": {},
   "outputs": [],
   "source": [
    "deb_1 = Debolezze(1, pkm_1.tipo, \"Fuoco\")\n",
    "deb_2 = Debolezze(2, pkm_2.tipo, \"Acqua\")\n",
    "deb_3 = Debolezze(3, pkm_3.tipo, \"Erba\")"
   ]
  },
  {
   "cell_type": "code",
   "execution_count": null,
   "id": "e5e2100a",
   "metadata": {},
   "outputs": [],
   "source": [
    "session.add_all([deb_1, deb_2, deb_3])"
   ]
  },
  {
   "cell_type": "code",
   "execution_count": null,
   "id": "263d2f26",
   "metadata": {},
   "outputs": [],
   "source": [
    "session.commit()"
   ]
  },
  {
   "cell_type": "code",
   "execution_count": null,
   "id": "fd1f84c6",
   "metadata": {},
   "outputs": [],
   "source": [
    "with engine.connect() as con:\n",
    "\n",
    "    rs = con.execute('SELECT * FROM \"Pokemon\"')\n",
    "\n",
    "    for row in rs:\n",
    "        print(row)"
   ]
  },
  {
   "cell_type": "code",
   "execution_count": null,
   "id": "41437adf",
   "metadata": {},
   "outputs": [],
   "source": [
    "with engine.connect() as con:\n",
    "\n",
    "    rs = con.execute('SELECT * FROM \"Debolezze\"')\n",
    "\n",
    "    for row in rs:\n",
    "        print(row)"
   ]
  },
  {
   "cell_type": "code",
   "execution_count": null,
   "id": "0bb7f241",
   "metadata": {},
   "outputs": [],
   "source": [
    "from sqlalchemy import text"
   ]
  },
  {
   "cell_type": "code",
   "execution_count": null,
   "id": "4e97b341",
   "metadata": {},
   "outputs": [],
   "source": [
    "with engine.connect() as con:\n",
    "    query = text('SELECT bst, nome FROM \"Pokemon\" WHERE nome LIKE {}'.format(\"'%saur'\"))\n",
    "    rs = con.execute(query)\n",
    "\n",
    "    for row in rs:\n",
    "        print(row)"
   ]
  }
 ],
 "metadata": {
  "kernelspec": {
   "display_name": "Python 3 (ipykernel)",
   "language": "python",
   "name": "python3"
  },
  "language_info": {
   "codemirror_mode": {
    "name": "ipython",
    "version": 3
   },
   "file_extension": ".py",
   "mimetype": "text/x-python",
   "name": "python",
   "nbconvert_exporter": "python",
   "pygments_lexer": "ipython3",
   "version": "3.10.8"
  }
 },
 "nbformat": 4,
 "nbformat_minor": 5
}
